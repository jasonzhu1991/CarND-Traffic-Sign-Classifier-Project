{
 "cells": [
  {
   "cell_type": "markdown",
   "metadata": {},
   "source": [
    "# Self-Driving Car Engineer Nanodegree\n",
    "\n",
    "## Deep Learning\n",
    "\n",
    "## Project: Build a Traffic Sign Recognition Classifier\n",
    "\n",
    "In this notebook, a template is provided for you to implement your functionality in stages which is required to successfully complete this project. If additional code is required that cannot be included in the notebook, be sure that the Python code is successfully imported and included in your submission, if necessary. Sections that begin with **'Implementation'** in the header indicate where you should begin your implementation for your project. Note that some sections of implementation are optional, and will be marked with **'Optional'** in the header.\n",
    "\n",
    "In addition to implementing code, there will be questions that you must answer which relate to the project and your implementation. Each section where you will answer a question is preceded by a **'Question'** header. Carefully read each question and provide thorough answers in the following text boxes that begin with **'Answer:'**. Your project submission will be evaluated based on your answers to each of the questions and the implementation you provide.\n",
    "\n",
    ">**Note:** Code and Markdown cells can be executed using the **Shift + Enter** keyboard shortcut. In addition, Markdown cells can be edited by typically double-clicking the cell to enter edit mode."
   ]
  },
  {
   "cell_type": "markdown",
   "metadata": {},
   "source": [
    "---\n",
    "## Step 0: Load The Data"
   ]
  },
  {
   "cell_type": "code",
   "execution_count": 8,
   "metadata": {
    "collapsed": true
   },
   "outputs": [],
   "source": [
    "# Load pickled data\n",
    "import pickle\n",
    "\n",
    "# TODO: Fill this in based on where you saved the training and testing data\n",
    "\n",
    "training_file = 'train.p'\n",
    "testing_file = 'test.p'\n",
    "\n",
    "with open(training_file, mode='rb') as f:\n",
    "    train = pickle.load(f)\n",
    "with open(testing_file, mode='rb') as f:\n",
    "    test = pickle.load(f)\n",
    "    \n",
    "X_train, y_train = train['features'], train['labels']\n",
    "X_test, y_test = test['features'], test['labels']\n"
   ]
  },
  {
   "cell_type": "markdown",
   "metadata": {},
   "source": [
    "---\n",
    "\n",
    "## Step 1: Dataset Summary & Exploration\n",
    "\n",
    "The pickled data is a dictionary with 4 key/value pairs:\n",
    "\n",
    "- `'features'` is a 4D array containing raw pixel data of the traffic sign images, (num examples, width, height, channels).\n",
    "- `'labels'` is a 2D array containing the label/class id of the traffic sign. The file `signnames.csv` contains id -> name mappings for each id.\n",
    "- `'sizes'` is a list containing tuples, (width, height) representing the the original width and height the image.\n",
    "- `'coords'` is a list containing tuples, (x1, y1, x2, y2) representing coordinates of a bounding box around the sign in the image. **THESE COORDINATES ASSUME THE ORIGINAL IMAGE. THE PICKLED DATA CONTAINS RESIZED VERSIONS (32 by 32) OF THESE IMAGES**\n",
    "\n",
    "Complete the basic data summary below."
   ]
  },
  {
   "cell_type": "code",
   "execution_count": 9,
   "metadata": {},
   "outputs": [
    {
     "name": "stdout",
     "output_type": "stream",
     "text": [
      "Number of training examples = 39209\n",
      "Number of testing examples = 12630\n",
      "Image data shape = (32, 32, 3)\n",
      "Number of classes = 43\n"
     ]
    }
   ],
   "source": [
    "### Replace each question mark with the appropriate value.\n",
    "\n",
    "# TODO: Number of training examples\n",
    "n_train = len(X_train)\n",
    "\n",
    "# TODO: Number of testing examples.\n",
    "n_test = len(X_test)\n",
    "\n",
    "# TODO: What's the shape of an traffic sign image?\n",
    "image_shape = X_train[0].shape\n",
    "\n",
    "# TODO: How many unique classes/labels there are in the dataset.\n",
    "n_classes = len(set(y_train))\n",
    "\n",
    "print(\"Number of training examples =\", n_train)\n",
    "print(\"Number of testing examples =\", n_test)\n",
    "print(\"Image data shape =\", image_shape)\n",
    "print(\"Number of classes =\", n_classes)"
   ]
  },
  {
   "cell_type": "code",
   "execution_count": 10,
   "metadata": {},
   "outputs": [
    {
     "name": "stdout",
     "output_type": "stream",
     "text": [
      "label =  0 , number of examples =  210\n",
      "label =  1 , number of examples =  2220\n",
      "label =  2 , number of examples =  2250\n",
      "label =  3 , number of examples =  1410\n",
      "label =  4 , number of examples =  1980\n",
      "label =  5 , number of examples =  1860\n",
      "label =  6 , number of examples =  420\n",
      "label =  7 , number of examples =  1440\n",
      "label =  8 , number of examples =  1410\n",
      "label =  9 , number of examples =  1470\n",
      "label =  10 , number of examples =  2010\n",
      "label =  11 , number of examples =  1320\n",
      "label =  12 , number of examples =  2100\n",
      "label =  13 , number of examples =  2160\n",
      "label =  14 , number of examples =  780\n",
      "label =  15 , number of examples =  630\n",
      "label =  16 , number of examples =  420\n",
      "label =  17 , number of examples =  1110\n",
      "label =  18 , number of examples =  1200\n",
      "label =  19 , number of examples =  210\n",
      "label =  20 , number of examples =  360\n",
      "label =  21 , number of examples =  330\n",
      "label =  22 , number of examples =  390\n",
      "label =  23 , number of examples =  510\n",
      "label =  24 , number of examples =  270\n",
      "label =  25 , number of examples =  1500\n",
      "label =  26 , number of examples =  600\n",
      "label =  27 , number of examples =  240\n",
      "label =  28 , number of examples =  540\n",
      "label =  29 , number of examples =  270\n",
      "label =  30 , number of examples =  450\n",
      "label =  31 , number of examples =  780\n",
      "label =  32 , number of examples =  240\n",
      "label =  33 , number of examples =  689\n",
      "label =  34 , number of examples =  420\n",
      "label =  35 , number of examples =  1200\n",
      "label =  36 , number of examples =  390\n",
      "label =  37 , number of examples =  210\n",
      "label =  38 , number of examples =  2070\n",
      "label =  39 , number of examples =  300\n",
      "label =  40 , number of examples =  360\n",
      "label =  41 , number of examples =  240\n",
      "label =  42 , number of examples =  240\n"
     ]
    }
   ],
   "source": [
    "### Some insights into the lables in training set\n",
    "set_of_labels = set(y_train)\n",
    "for label in set_of_labels:\n",
    "    num_examples = len([y for y in y_train if y == label])\n",
    "    print('label = ', label, \", number of examples = \", num_examples)"
   ]
  },
  {
   "cell_type": "markdown",
   "metadata": {},
   "source": [
    "Visualize the German Traffic Signs Dataset using the pickled file(s). This is open ended, suggestions include: plotting traffic sign images, plotting the count of each sign, etc.\n",
    "\n",
    "The [Matplotlib](http://matplotlib.org/) [examples](http://matplotlib.org/examples/index.html) and [gallery](http://matplotlib.org/gallery.html) pages are a great resource for doing visualizations in Python.\n",
    "\n",
    "**NOTE:** It's recommended you start with something simple first. If you wish to do more, come back to it after you've completed the rest of the sections."
   ]
  },
  {
   "cell_type": "code",
   "execution_count": 12,
   "metadata": {},
   "outputs": [
    {
     "data": {
      "image/png": "[encoded data removed]",
      "text/plain": [
       "<matplotlib.figure.Figure at 0x7f7e2a72db70>"
      ]
     },
     "metadata": {},
     "output_type": "display_data"
    }
   ],
   "source": [
    "### Data exploration visualization goes here.\n",
    "### Feel free to use as many code cells as needed.\n",
    "import matplotlib.pyplot as plt\n",
    "import random\n",
    "# Visualizations will be shown in the notebook.\n",
    "%matplotlib inline\n",
    "\n",
    "fig = plt.figure()\n",
    "n = 5\n",
    "for i in range(n ** 2):\n",
    "    image = X_train[random.randint(0, len(X_train))]\n",
    "    fig.add_subplot(n, n, i + 1)\n",
    "    plt.imshow(image)"
   ]
  },
  {
   "cell_type": "markdown",
   "metadata": {},
   "source": [
    "----\n",
    "\n",
    "## Step 2: Design and Test a Model Architecture\n",
    "\n",
    "Design and implement a deep learning model that learns to recognize traffic signs. Train and test your model on the [German Traffic Sign Dataset](http://benchmark.ini.rub.de/?section=gtsrb&subsection=dataset).\n",
    "\n",
    "There are various aspects to consider when thinking about this problem:\n",
    "\n",
    "- Neural network architecture\n",
    "- Play around preprocessing techniques (normalization, rgb to grayscale, etc)\n",
    "- Number of examples per label (some have more than others).\n",
    "- Generate fake data.\n",
    "\n",
    "Here is an example of a [published baseline model on this problem](http://yann.lecun.com/exdb/publis/pdf/sermanet-ijcnn-11.pdf). It's not required to be familiar with the approach used in the paper but, it's good practice to try to read papers like these.\n",
    "\n",
    "**NOTE:** The LeNet-5 implementation shown in the [classroom](https://classroom.udacity.com/nanodegrees/nd013/parts/fbf77062-5703-404e-b60c-95b78b2f3f9e/modules/6df7ae49-c61c-4bb2-a23e-6527e69209ec/lessons/601ae704-1035-4287-8b11-e2c2716217ad/concepts/d4aca031-508f-4e0b-b493-e7b706120f81) at the end of the CNN lesson is a solid starting point. You'll have to change the number of classes and possibly the preprocessing, but aside from that it's plug and play!"
   ]
  },
  {
   "cell_type": "markdown",
   "metadata": {},
   "source": [
    "### Implementation\n",
    "\n",
    "Use the code cell (or multiple code cells, if necessary) to implement the first step of your project. Once you have completed your implementation and are satisfied with the results, be sure to thoroughly answer the questions that follow."
   ]
  },
  {
   "cell_type": "code",
   "execution_count": 13,
   "metadata": {
    "collapsed": true
   },
   "outputs": [],
   "source": [
    "### Preprocess the data here.\n",
    "### Feel free to use as many code cells as needed.\n",
    "from sklearn.utils import shuffle\n",
    "\n",
    "X_train, y_train = shuffle(X_train, y_train)"
   ]
  },
  {
   "cell_type": "markdown",
   "metadata": {},
   "source": [
    "### Question 1 \n",
    "\n",
    "_Describe how you preprocessed the data. Why did you choose that technique?_"
   ]
  },
  {
   "cell_type": "markdown",
   "metadata": {},
   "source": [
    "**Answer:**\n",
    "Nothing special, just shuffled them to prevent the order of data from having any effect on the model."
   ]
  },
  {
   "cell_type": "code",
   "execution_count": 14,
   "metadata": {
    "collapsed": true
   },
   "outputs": [],
   "source": [
    "### Generate data additional data (OPTIONAL!)\n",
    "### and split the data into training/validation/testing sets here.\n",
    "### Feel free to use as many code cells as needed."
   ]
  },
  {
   "cell_type": "markdown",
   "metadata": {},
   "source": [
    "### Question 2\n",
    "\n",
    "_Describe how you set up the training, validation and testing data for your model. **Optional**: If you generated additional data, how did you generate the data? Why did you generate the data? What are the differences in the new dataset (with generated data) from the original dataset?_"
   ]
  },
  {
   "cell_type": "markdown",
   "metadata": {},
   "source": [
    "**Answer:**\n",
    "I did not generate additional data"
   ]
  },
  {
   "cell_type": "code",
   "execution_count": 15,
   "metadata": {
    "collapsed": true
   },
   "outputs": [],
   "source": [
    "### Define your architecture here.\n",
    "### Feel free to use as many code cells as needed.\n",
    "import tensorflow as tf\n",
    "from tensorflow.contrib.layers import flatten\n",
    "\n",
    "def LeNet(x):    \n",
    "    # Hyperparameters\n",
    "    mu = 0\n",
    "    sigma = 0.1\n",
    "    \n",
    "    # Layer 1: Convolutional. Input = 32x32x3. Output = 28x28x8.\n",
    "    conv1_W = tf.Variable(tf.truncated_normal((5, 5, 3, 8), mean=mu, stddev=sigma))\n",
    "    conv1_b = tf.Variable(tf.zeros(8))\n",
    "    conv1 = tf.nn.conv2d(x, conv1_W, [1, 1, 1, 1], \"VALID\") + conv1_b\n",
    "\n",
    "    # Layer 2: Convolutional. Input = 28x28x8. Output = 24x24x16.\n",
    "    conv2_W = tf.Variable(tf.truncated_normal((5, 5, 8, 20), mean=mu, stddev=sigma))\n",
    "    conv2_b = tf.Variable(tf.zeros(20))\n",
    "    conv2 = tf.nn.conv2d(conv1, conv2_W, [1, 1, 1, 1], \"VALID\") + conv2_b\n",
    "    \n",
    "    # Activation.\n",
    "    relu1 = tf.sigmoid(conv2)\n",
    "\n",
    "    # Pooling. Input = 24x24x16. Output = 12x12x16\n",
    "    maxpool2 = tf.nn.max_pool(relu1, [1, 2, 2, 1], [1, 2, 2, 1], 'VALID')\n",
    "\n",
    "    # Layer 3: Convolutional. Input = 12x12x16, Output = 10x10x32.\n",
    "    conv3_W = tf.Variable(tf.truncated_normal((3, 3, 20, 40), mean=mu, stddev=sigma))\n",
    "    conv3_b = tf.Variable(tf.zeros(40))\n",
    "    conv3 = tf.nn.conv2d(maxpool2, conv3_W, [1, 1, 1, 1], \"VALID\") + conv3_b\n",
    "    \n",
    "    # Layer 4: Convolutional. Input = 10x10x32, Output = 8x8x64.\n",
    "    conv4_W = tf.Variable(tf.truncated_normal((3, 3, 40, 80), mean=mu, stddev=sigma))\n",
    "    conv4_b = tf.Variable(tf.zeros(80))\n",
    "    conv4 = tf.nn.conv2d(conv3, conv4_W, [1, 1, 1, 1], \"VALID\") + conv4_b\n",
    "    \n",
    "    # Activation.\n",
    "    relu4 = tf.sigmoid(conv4)\n",
    "\n",
    "    # Pooling. Input = 8x8x80. Output = 4x4x80.\n",
    "    maxpool4 = tf.nn.max_pool(relu4, [1, 2, 2, 1], [1, 2, 2, 1], 'VALID')\n",
    "\n",
    "    # Flattening. Input = 4x4x80, output = 1280\n",
    "    fc0 = flatten(maxpool4)\n",
    "    \n",
    "    # Layer 3: Fully Connected. Input = 1280. Output = 400.\n",
    "    fc1_W = tf.Variable(tf.truncated_normal((1280, 400), mean=mu, stddev=sigma))\n",
    "    fc1_b = tf.Variable(tf.zeros(400))\n",
    "    fc1 = tf.matmul(fc0, fc1_W) + fc1_b\n",
    "    \n",
    "    # Activation.\n",
    "    relu_fc1 = tf.sigmoid(fc1)\n",
    "\n",
    "    # TODO: Layer 4: Fully Connected. Input = 400. Output = 128.\n",
    "    fc2_W = tf.Variable(tf.truncated_normal((400, 128), mean=mu, stddev=sigma))\n",
    "    fc2_b = tf.Variable(tf.zeros(128))\n",
    "    fc2 = tf.matmul(relu_fc1, fc2_W) + fc2_b\n",
    "    \n",
    "    # Activation.\n",
    "    relu_fc2 = tf.sigmoid(fc2)\n",
    "\n",
    "    # Layer 5: Fully Connected. Input = 128. Output = 43.\n",
    "    labels_W = tf.Variable(tf.truncated_normal((128, 43), mean=mu, stddev=sigma))\n",
    "    labels_b = tf.Variable(tf.zeros(43))\n",
    "    labels = tf.matmul(relu_fc2, labels_W) + labels_b\n",
    "    \n",
    "    return labels\n",
    "\n",
    "x = tf.placeholder(tf.float32, (None, 32, 32, 3))\n",
    "y = tf.placeholder(tf.int32, (None))\n",
    "one_hot_y = tf.one_hot(y, 43)\n",
    "x = tf.image.rgb_to_hsv(x)\n",
    "\n",
    "rate = 0.001\n",
    "\n",
    "logits = LeNet(x)\n",
    "cross_entropy = tf.nn.softmax_cross_entropy_with_logits(logits=logits, labels=one_hot_y)\n",
    "loss_operation = tf.reduce_mean(cross_entropy)\n",
    "optimizer = tf.train.AdamOptimizer(learning_rate = rate)\n",
    "training_operation = optimizer.minimize(loss_operation)"
   ]
  },
  {
   "cell_type": "markdown",
   "metadata": {},
   "source": [
    "### Question 3\n",
    "\n",
    "_What does your final architecture look like? (Type of model, layers, sizes, connectivity, etc.)  For reference on how to build a deep neural network using TensorFlow, see [Deep Neural Network in TensorFlow\n",
    "](https://classroom.udacity.com/nanodegrees/nd013/parts/fbf77062-5703-404e-b60c-95b78b2f3f9e/modules/6df7ae49-c61c-4bb2-a23e-6527e69209ec/lessons/b516a270-8600-4f93-a0a3-20dfeabe5da6/concepts/83a3a2a2-a9bd-4b7b-95b0-eb924ab14432) from the classroom._\n"
   ]
  },
  {
   "cell_type": "markdown",
   "metadata": {},
   "source": [
    "**Answer:**\n",
    "conv layer -> conv layer -> maxpool -> relu -> conv layer -> conv layer -> relu -> maxpool -> flatten -> normal -> relu -> normal -> relu "
   ]
  },
  {
   "cell_type": "code",
   "execution_count": 16,
   "metadata": {
    "collapsed": true
   },
   "outputs": [],
   "source": [
    "### Train your model here.\n",
    "### Feel free to use as many code cells as needed.\n",
    "correct_prediction = tf.equal(tf.argmax(logits, 1), tf.argmax(one_hot_y, 1))\n",
    "accuracy_operation = tf.reduce_mean(tf.cast(correct_prediction, tf.float32))\n",
    "\n",
    "def evaluate(X_data, y_data):\n",
    "    num_examples = len(X_data)\n",
    "    total_accuracy = 0\n",
    "    sess = tf.get_default_session()\n",
    "    for offset in range(0, num_examples, BATCH_SIZE):\n",
    "        batch_x, batch_y = X_data[offset:offset+BATCH_SIZE], y_data[offset:offset+BATCH_SIZE]\n",
    "        accuracy = sess.run(accuracy_operation, feed_dict={x: batch_x, y: batch_y})\n",
    "        total_accuracy += (accuracy * len(batch_x))\n",
    "    return total_accuracy / num_examples"
   ]
  },
  {
   "cell_type": "code",
   "execution_count": 17,
   "metadata": {},
   "outputs": [
    {
     "name": "stdout",
     "output_type": "stream",
     "text": [
      "Training...\n",
      "\n",
      "EPOCH 1 ...\n",
      "Validation Accuracy = 0.569\n",
      "\n",
      "EPOCH 2 ...\n",
      "Validation Accuracy = 0.831\n",
      "\n",
      "EPOCH 3 ...\n",
      "Validation Accuracy = 0.902\n",
      "\n",
      "EPOCH 4 ...\n",
      "Validation Accuracy = 0.925\n",
      "\n",
      "EPOCH 5 ...\n",
      "Validation Accuracy = 0.941\n",
      "\n",
      "EPOCH 6 ...\n",
      "Validation Accuracy = 0.946\n",
      "\n",
      "EPOCH 7 ...\n",
      "Validation Accuracy = 0.949\n",
      "\n",
      "EPOCH 8 ...\n",
      "Validation Accuracy = 0.954\n",
      "\n",
      "EPOCH 9 ...\n",
      "Validation Accuracy = 0.956\n",
      "\n",
      "EPOCH 10 ...\n",
      "Validation Accuracy = 0.956\n",
      "\n",
      "EPOCH 11 ...\n",
      "Validation Accuracy = 0.957\n",
      "\n",
      "EPOCH 12 ...\n",
      "Validation Accuracy = 0.954\n",
      "\n",
      "EPOCH 13 ...\n",
      "Validation Accuracy = 0.960\n",
      "\n",
      "EPOCH 14 ...\n",
      "Validation Accuracy = 0.958\n",
      "\n",
      "EPOCH 15 ...\n",
      "Validation Accuracy = 0.960\n",
      "\n",
      "EPOCH 16 ...\n",
      "Validation Accuracy = 0.961\n",
      "\n",
      "EPOCH 17 ...\n",
      "Validation Accuracy = 0.961\n",
      "\n",
      "EPOCH 18 ...\n",
      "Validation Accuracy = 0.962\n",
      "\n",
      "EPOCH 19 ...\n",
      "Validation Accuracy = 0.959\n",
      "\n",
      "EPOCH 20 ...\n",
      "Validation Accuracy = 0.963\n",
      "\n",
      "Model saved\n"
     ]
    }
   ],
   "source": [
    "EPOCHS = 20\n",
    "BATCH_SIZE = 500\n",
    "\n",
    "with tf.Session() as sess:\n",
    "    sess.run(tf.global_variables_initializer())\n",
    "    num_examples = len(X_train)\n",
    "    \n",
    "    print(\"Training...\")\n",
    "    print()\n",
    "    for i in range(EPOCHS):\n",
    "        X_train, y_train = shuffle(X_train, y_train)\n",
    "        for offset in range(0, num_examples, BATCH_SIZE):\n",
    "            end = offset + BATCH_SIZE\n",
    "            batch_x, batch_y = X_train[offset:end], y_train[offset:end]\n",
    "            sess.run(training_operation, feed_dict={x: batch_x, y: batch_y})\n",
    "            \n",
    "        validation_accuracy = evaluate(X_test, y_test)\n",
    "        print(\"EPOCH {} ...\".format(i+1))\n",
    "        print(\"Validation Accuracy = {:.3f}\".format(validation_accuracy))\n",
    "        print()\n",
    "        \n",
    "    try:\n",
    "        saver\n",
    "    except NameError:\n",
    "        saver = tf.train.Saver()\n",
    "    saver.save(sess, 'traffic_sign')\n",
    "    print(\"Model saved\")"
   ]
  },
  {
   "cell_type": "markdown",
   "metadata": {},
   "source": [
    "### Question 4\n",
    "\n",
    "_How did you train your model? (Type of optimizer, batch size, epochs, hyperparameters, etc.)_\n"
   ]
  },
  {
   "cell_type": "markdown",
   "metadata": {},
   "source": [
    "**Answer:**\n",
    "- AdamOptimizer just like LeNet\n",
    "- Batch size: 500\n",
    "- Epochs: 20\n",
    "- Params for weights: truncated normal with mean = 0 and stdev = 0.1\n",
    "- Learning rate: 0.001"
   ]
  },
  {
   "cell_type": "markdown",
   "metadata": {},
   "source": [
    "### Question 5\n",
    "\n",
    "\n",
    "_What approach did you take in coming up with a solution to this problem? It may have been a process of trial and error, in which case, outline the steps you took to get to the final solution and why you chose those steps. Perhaps your solution involved an already well known implementation or architecture. In this case, discuss why you think this is suitable for the current problem._"
   ]
  },
  {
   "cell_type": "markdown",
   "metadata": {},
   "source": [
    "**Answer:**\n",
    "I tried 2 conv layers first, tuned hyperparams like batch size, epochs and learning rate, and I could only get the accuracy up to ~0.8. Tried dropout, rgb2hsv, sigmoid rather than relu, etc. all giving me similar accuracy (sometimes even worse). Then I added 2 more conv layers and got the accuracy > 0.9 for the first time. I further tuned the hyperparameters and managed the get the accuracy up to 0.96. I think maybe the traffic sign problem is intrinsicly complex enough so that we need a deep enough convnet to solve it."
   ]
  },
  {
   "cell_type": "markdown",
   "metadata": {},
   "source": [
    "---\n",
    "\n",
    "## Step 3: Test a Model on New Images\n",
    "\n",
    "Take several pictures of traffic signs that you find on the web or around you (at least five), and run them through your classifier on your computer to produce example results. The classifier might not recognize some local signs but it could prove interesting nonetheless.\n",
    "\n",
    "You may find `signnames.csv` useful as it contains mappings from the class id (integer) to the actual sign name."
   ]
  },
  {
   "cell_type": "markdown",
   "metadata": {},
   "source": [
    "### Implementation\n",
    "\n",
    "Use the code cell (or multiple code cells, if necessary) to implement the first step of your project. Once you have completed your implementation and are satisfied with the results, be sure to thoroughly answer the questions that follow."
   ]
  },
  {
   "cell_type": "code",
   "execution_count": 51,
   "metadata": {},
   "outputs": [
    {
     "data": {
      "image/png": "[encoded data removed]",
      "text/plain": [
       "<matplotlib.figure.Figure at 0x7f7e0fccfeb8>"
      ]
     },
     "metadata": {},
     "output_type": "display_data"
    }
   ],
   "source": [
    "### Load the images and plot them here.\n",
    "### Feel free to use as many code cells as needed.\n",
    "import matplotlib.image as mpimg\n",
    "import numpy as np\n",
    "\n",
    "image_names = [\n",
    "    'SignNoUTurn_resized.png',\n",
    "    'SignTrafficLight_resized.png',\n",
    "    'SignSpeedLimit70_resized.png',\n",
    "    'SignStopSign_resized.png',\n",
    "    'SignYieldSign_resized.png',\n",
    "]\n",
    "\n",
    "images = []\n",
    "for i in range(len(image_names)):\n",
    "    image = np.array(mpimg.imread(image_names[i], 'png') * 255, dtype=np.uint8)\n",
    "    images.append(image)\n",
    "\n",
    "fig = plt.figure()\n",
    "for i in range(len(images)):\n",
    "    fig.add_subplot(1, 5, i + 1)\n",
    "    plt.imshow(images[i])\n",
    "    "
   ]
  },
  {
   "cell_type": "markdown",
   "metadata": {},
   "source": [
    "### Question 6\n",
    "\n",
    "_Choose five candidate images of traffic signs and provide them in the report. Are there any particular qualities of the image(s) that might make classification difficult? It could be helpful to plot the images in the notebook._\n",
    "\n"
   ]
  },
  {
   "cell_type": "markdown",
   "metadata": {},
   "source": [
    "**Answer:**"
   ]
  },
  {
   "cell_type": "code",
   "execution_count": 52,
   "metadata": {},
   "outputs": [
    {
     "name": "stdout",
     "output_type": "stream",
     "text": [
      "[35 11 34 14 10]\n"
     ]
    }
   ],
   "source": [
    "### Run the predictions here.\n",
    "### Feel free to use as many code cells as needed.\n",
    "def predict(X_data):\n",
    "    sess = tf.get_default_session()\n",
    "    return sess.run(tf.argmax(logits, 1), feed_dict={x: X_data})\n",
    "\n",
    "with tf.Session() as sess:\n",
    "    saver.restore(sess, tf.train.latest_checkpoint('.'))\n",
    "    print(predict(images))"
   ]
  },
  {
   "cell_type": "markdown",
   "metadata": {},
   "source": [
    "### Question 7\n",
    "\n",
    "_Is your model able to perform equally well on captured pictures when compared to testing on the dataset? The simplest way to do this check the accuracy of the predictions. For example, if the model predicted 1 out of 5 signs correctly, it's 20% accurate._\n",
    "\n",
    "_**NOTE:** You could check the accuracy manually by using `signnames.csv` (same directory). This file has a mapping from the class id (0-42) to the corresponding sign name. So, you could take the class id the model outputs, lookup the name in `signnames.csv` and see if it matches the sign from the image._\n"
   ]
  },
  {
   "cell_type": "markdown",
   "metadata": {},
   "source": [
    "**Answer:**\n",
    "Only the stop sign is correct: 20% accuracy, while the model performs at 96.3% accuracy on test set."
   ]
  },
  {
   "cell_type": "code",
   "execution_count": 53,
   "metadata": {},
   "outputs": [
    {
     "name": "stdout",
     "output_type": "stream",
     "text": [
      "TopKV2(values=array([[  4.97999787e-01,   1.20170817e-01,   7.59478807e-02,\n",
      "          7.16442540e-02,   5.65189607e-02],\n",
      "       [  3.22694957e-01,   2.07814112e-01,   1.56397119e-01,\n",
      "          9.98148620e-02,   6.62139654e-02],\n",
      "       [  5.05098104e-01,   1.50730804e-01,   7.37400502e-02,\n",
      "          4.69008200e-02,   3.87793630e-02],\n",
      "       [  9.97188628e-01,   8.22552713e-04,   4.84816206e-04,\n",
      "          3.10438947e-04,   1.97196059e-04],\n",
      "       [  2.84999609e-01,   2.28536621e-01,   1.42926142e-01,\n",
      "          1.27649054e-01,   1.04898922e-01]], dtype=float32), indices=array([[35, 19, 36, 10, 16],\n",
      "       [11, 42, 20, 10, 35],\n",
      "       [34, 35, 36, 17,  6],\n",
      "       [14,  5, 29, 17, 15],\n",
      "       [10, 12, 30, 11, 13]], dtype=int32))\n"
     ]
    }
   ],
   "source": [
    "### Visualize the softmax probabilities here.\n",
    "### Feel free to use as many code cells as needed.\n",
    "def softmax(X_data):\n",
    "    sess = tf.get_default_session()\n",
    "    return sess.run(tf.nn.top_k(tf.nn.softmax(logits), k=5), feed_dict={x: X_data})\n",
    "\n",
    "with tf.Session() as sess:\n",
    "    saver.restore(sess, tf.train.latest_checkpoint('.'))\n",
    "    print(softmax(images))"
   ]
  },
  {
   "cell_type": "markdown",
   "metadata": {},
   "source": [
    "### Question 8\n",
    "\n",
    "*Use the model's softmax probabilities to visualize the **certainty** of its predictions, [`tf.nn.top_k`](https://www.tensorflow.org/versions/r0.12/api_docs/python/nn.html#top_k) could prove helpful here. Which predictions is the model certain of? Uncertain? If the model was incorrect in its initial prediction, does the correct prediction appear in the top k? (k should be 5 at most)*\n",
    "\n",
    "`tf.nn.top_k` will return the values and indices (class ids) of the top k predictions. So if k=3, for each sign, it'll return the 3 largest probabilities (out of a possible 43) and the correspoding class ids.\n",
    "\n",
    "Take this numpy array as an example:\n",
    "\n",
    "```\n",
    "# (5, 6) array\n",
    "a = np.array([[ 0.24879643,  0.07032244,  0.12641572,  0.34763842,  0.07893497,\n",
    "         0.12789202],\n",
    "       [ 0.28086119,  0.27569815,  0.08594638,  0.0178669 ,  0.18063401,\n",
    "         0.15899337],\n",
    "       [ 0.26076848,  0.23664738,  0.08020603,  0.07001922,  0.1134371 ,\n",
    "         0.23892179],\n",
    "       [ 0.11943333,  0.29198961,  0.02605103,  0.26234032,  0.1351348 ,\n",
    "         0.16505091],\n",
    "       [ 0.09561176,  0.34396535,  0.0643941 ,  0.16240774,  0.24206137,\n",
    "         0.09155967]])\n",
    "```\n",
    "\n",
    "Running it through `sess.run(tf.nn.top_k(tf.constant(a), k=3))` produces:\n",
    "\n",
    "```\n",
    "TopKV2(values=array([[ 0.34763842,  0.24879643,  0.12789202],\n",
    "       [ 0.28086119,  0.27569815,  0.18063401],\n",
    "       [ 0.26076848,  0.23892179,  0.23664738],\n",
    "       [ 0.29198961,  0.26234032,  0.16505091],\n",
    "       [ 0.34396535,  0.24206137,  0.16240774]]), indices=array([[3, 0, 5],\n",
    "       [0, 1, 4],\n",
    "       [0, 5, 1],\n",
    "       [1, 3, 5],\n",
    "       [1, 4, 3]], dtype=int32))\n",
    "```\n",
    "\n",
    "Looking just at the first row we get `[ 0.34763842,  0.24879643,  0.12789202]`, you can confirm these are the 3 largest probabilities in `a`. You'll also notice `[3, 0, 5]` are the corresponding indices."
   ]
  },
  {
   "cell_type": "markdown",
   "metadata": {},
   "source": [
    "**Answer:**\n",
    "Only the correct prediction (Stop Sign, index 3) has 99.7% certainty. The largest certainty for the rest of the images is 50.5%."
   ]
  },
  {
   "cell_type": "markdown",
   "metadata": {},
   "source": [
    "> **Note**: Once you have completed all of the code implementations and successfully answered each question above, you may finalize your work by exporting the iPython Notebook as an HTML document. You can do this by using the menu above and navigating to  \\n\",\n",
    "    \"**File -> Download as -> HTML (.html)**. Include the finished document along with this notebook as your submission."
   ]
  },
  {
   "cell_type": "code",
   "execution_count": null,
   "metadata": {
    "collapsed": true
   },
   "outputs": [],
   "source": []
  }
 ],
 "metadata": {
  "anaconda-cloud": {},
  "kernelspec": {
   "display_name": "Python 3",
   "language": "python",
   "name": "python3"
  },
  "language_info": {
   "codemirror_mode": {
    "name": "ipython",
    "version": 3
   },
   "file_extension": ".py",
   "mimetype": "text/x-python",
   "name": "python",
   "nbconvert_exporter": "python",
   "pygments_lexer": "ipython3",
   "version": "3.5.2"
  },
  "widgets": {
   "state": {},
   "version": "1.1.2"
  }
 },
 "nbformat": 4,
 "nbformat_minor": 1
}
